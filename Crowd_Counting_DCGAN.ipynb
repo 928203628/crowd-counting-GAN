{
 "cells": [
  {
   "cell_type": "markdown",
   "metadata": {},
   "source": [
    "### Current Hyperparameter settings:\n",
    "* gamma = 2550\n",
    "* lambda = 10"
   ]
  },
  {
   "cell_type": "code",
   "execution_count": 1,
   "metadata": {},
   "outputs": [],
   "source": [
    "gamma = 2550\n",
    "lambdaz = 10"
   ]
  },
  {
   "cell_type": "code",
   "execution_count": 2,
   "metadata": {},
   "outputs": [
    {
     "name": "stderr",
     "output_type": "stream",
     "text": [
      "/usr/local/lib/python2.7/site-packages/h5py/__init__.py:36: FutureWarning: Conversion of the second argument of issubdtype from `float` to `np.floating` is deprecated. In future, it will be treated as `np.float64 == np.dtype(float).type`.\n",
      "  from ._conv import register_converters as _register_converters\n"
     ]
    }
   ],
   "source": [
    "import numpy as np\n",
    "import random\n",
    "import scipy.io\n",
    "import scipy.ndimage\n",
    "import os\n",
    "import gc\n",
    "import random\n",
    "from PIL import Image\n",
    "import cv2\n",
    "import h5py\n",
    "import random\n",
    "\n",
    "import torch\n",
    "import torch.nn as nn\n",
    "import torch.optim as optim\n",
    "import torchvision.transforms as T\n",
    "import torch.nn.functional as Fn\n",
    "from torch.autograd import Variable\n",
    "from torch.utils.data import DataLoader, TensorDataset\n",
    "\n",
    "from sklearn.model_selection import train_test_split\n",
    "\n",
    "import matplotlib.pyplot as plt\n",
    "%matplotlib inline"
   ]
  },
  {
   "cell_type": "code",
   "execution_count": null,
   "metadata": {},
   "outputs": [],
   "source": [
    "X_A_dir = '/ShanghaiTech_Crowd_Counting_Dataset/part_A_final/train_data/images/'\n",
    "Y_A_dir = '/ShanghaiTech_Crowd_Counting_Dataset/part_A_final/train_data/ground_truth/'\n",
    "\n",
    "X_A_tdir = '/ShanghaiTech_Crowd_Counting_Dataset/part_A_final/test_data/images/'\n",
    "Y_A_tdir = '/ShanghaiTech_Crowd_Counting_Dataset/part_A_final/test_data/ground_truth/'\n",
    "\n",
    "X_B_dir = '/ShanghaiTech_Crowd_Counting_Dataset/part_B_final/train_data/images/'\n",
    "Y_B_dir = '/ShanghaiTech_Crowd_Counting_Dataset/part_B_final/train_data/ground_truth/'\n",
    "\n",
    "X_B_tdir = '/ShanghaiTech_Crowd_Counting_Dataset/part_B_final/test_data/images/'\n",
    "Y_B_tdir = '/ShanghaiTech_Crowd_Counting_Dataset/part_B_final/test_data/ground_truth/'\n",
    "\n",
    "images_A = [X_A_dir + i for i in os.listdir(X_A_dir)]\n",
    "images_At = [X_A_tdir + i for i in os.listdir(X_A_tdir)]\n",
    "images_B = [X_B_dir + i for i in os.listdir(X_B_dir)]\n",
    "images_Bt = [X_B_tdir + i for i in os.listdir(X_B_tdir)]\n",
    "\n",
    "gt_A = [Y_A_dir + i for i in os.listdir(Y_A_dir)]\n",
    "gt_At = [Y_A_tdir + i for i in os.listdir(Y_A_tdir)]\n",
    "gt_B = [Y_B_dir + i for i in os.listdir(Y_B_dir)]\n",
    "gt_Bt = [Y_B_tdir + i for i in os.listdir(Y_B_tdir)]\n",
    "\n",
    "images_train = images_A + images_B\n",
    "images_test = images_At + images_Bt\n",
    "\n",
    "gt_train = gt_A + gt_B\n",
    "gt_test = gt_At + gt_Bt\n",
    "\n",
    "images_train.sort()\n",
    "images_test.sort()\n",
    "gt_train.sort()\n",
    "gt_test.sort()"
   ]
  },
  {
   "cell_type": "code",
   "execution_count": null,
   "metadata": {},
   "outputs": [],
   "source": [
    "def rgb2gray(rgb):                                                      #convert RGB images to grayscale\n",
    "    return np.dot(rgb[...,:3], [0.299, 0.587, 0.114])\n",
    "\n",
    "X_train = []\n",
    "X_test_A = []\n",
    "X_test_B = []\n",
    "\n",
    "def generate_data():\n",
    "    \n",
    "    for image in images_train:\n",
    "        X_train.append(rgb2gray(cv2.resize(cv2.imread(image), (256, 256))))\n",
    "        \n",
    "    for i in xrange(182):\n",
    "        X_test_A.append(rgb2gray(cv2.resize(cv2.imread(images_test[i]), (256, 256))))\n",
    "        \n",
    "    for i in xrange(182, 498):\n",
    "        X_test_B.append(rgb2gray(cv2.resize(cv2.imread(images_test[i]), (256, 256))))\n",
    "        \n",
    "    return X_train, X_test_A, X_test_B\n",
    "\n",
    "X_train, X_test_A, X_test_B = generate_data()\n",
    "\n",
    "print 'Shape of a sample training image: {}'.format(X_train[0].shape)"
   ]
  },
  {
   "cell_type": "code",
   "execution_count": null,
   "metadata": {},
   "outputs": [],
   "source": [
    "Y_test_A = np.asarray(np.load('/ShanghaiDensities256/densities_test_A.npy'))\n",
    "Y_test_B = np.asarray(np.load('/ShanghaiDensities256/densities_test_B.npy'))\n",
    "Y_train = np.asarray(np.load('/ShanghaiDensities256/densities_train.npy'))\n",
    "\n",
    "print 'Sizes\\nTraining: {} (A: {}, B: {})\\nTest A: {}\\nTest B: {}'.format(len(X_train), len(images_A), len(images_B), len(X_test_A), len(X_test_B))"
   ]
  },
  {
   "cell_type": "code",
   "execution_count": null,
   "metadata": {},
   "outputs": [],
   "source": [
    "class UnetSkipConnectionBlock(nn.Module):\n",
    "    def __init__(self, outer_nc, inner_nc, norm_layer=nn.BatchNorm2d, input_nc=None, submodule=None, outermost=False, innermost=False):\n",
    "        super(UnetSkipConnectionBlock, self).__init__()\n",
    "        \n",
    "        self.outermost = outermost\n",
    "        if input_nc == None:\n",
    "            input_nc = outer_nc\n",
    "            \n",
    "        use_bias = norm_layer == nn.InstanceNorm2d\n",
    "        \n",
    "        downconv = nn.Conv2d(input_nc, inner_nc, kernel_size=4, stride=2, padding=1, bias=use_bias)\n",
    "        downrelu = nn.LeakyReLU(0.2, True)\n",
    "        downnorm = norm_layer(inner_nc)\n",
    "        uprelu = nn.ReLU(True)\n",
    "        upnorm = norm_layer(outer_nc)\n",
    "        \n",
    "        if outermost:\n",
    "            upconv = nn.ConvTranspose2d(inner_nc * 2, outer_nc, kernel_size=4, stride=2, padding=1)\n",
    "            down = [downconv]\n",
    "            up = [uprelu, upconv, nn.ReLU()]\n",
    "            model = down + [submodule] + up\n",
    "            \n",
    "        elif innermost:\n",
    "            upconv = nn.ConvTranspose2d(inner_nc, outer_nc, kernel_size=4, stride=2, padding=1, bias=use_bias)\n",
    "            down = [downrelu, downconv]\n",
    "            up = [uprelu, upconv, upnorm]\n",
    "            model = down + up\n",
    "            \n",
    "        else:\n",
    "            upconv = nn.ConvTranspose2d(inner_nc * 2, outer_nc, kernel_size=4, stride=2, padding=1, bias=use_bias)\n",
    "            down = [downrelu, downconv, downnorm]\n",
    "            up = [uprelu, upconv, upnorm]\n",
    "            \n",
    "            model = down + [submodule] + up + [nn.Dropout(0.5)]\n",
    "            \n",
    "        self.model = nn.Sequential(*model)\n",
    "        \n",
    "    def forward(self, input):\n",
    "        if self.outermost:\n",
    "            return self.model(input)\n",
    "        \n",
    "        else:\n",
    "            return torch.cat([input, self.model(input)], 1)"
   ]
  },
  {
   "cell_type": "code",
   "execution_count": null,
   "metadata": {},
   "outputs": [],
   "source": [
    "class UnetGenerator(nn.Module):\n",
    "    def __init__(self, input_nc, output_nc, ngf=64, norm_layer=nn.BatchNorm2d, num_downs=4):\n",
    "        super(UnetGenerator, self).__init__()\n",
    "                \n",
    "        unet_block = UnetSkipConnectionBlock(ngf * 8, ngf * 8, input_nc=None, norm_layer=norm_layer, innermost=True)\n",
    "        \n",
    "        for i in xrange(num_downs - 1):\n",
    "            unet_block = UnetSkipConnectionBlock(ngf * 8, ngf * 8, input_nc=None, submodule=unet_block, norm_layer=norm_layer)\n",
    "            \n",
    "        unet_block = UnetSkipConnectionBlock(ngf * 4, ngf * 8, input_nc=None, submodule=unet_block, norm_layer=norm_layer)\n",
    "        unet_block = UnetSkipConnectionBlock(ngf * 2, ngf * 4, input_nc=None, submodule=unet_block, norm_layer=norm_layer)\n",
    "        unet_block = UnetSkipConnectionBlock(ngf, ngf * 2, input_nc=None, submodule=unet_block, norm_layer=norm_layer)\n",
    "        unet_block = UnetSkipConnectionBlock(output_nc, ngf, input_nc=input_nc, submodule=unet_block, outermost=True, norm_layer=norm_layer)\n",
    "        \n",
    "        self.model = unet_block\n",
    "        \n",
    "    def forward(self, input):\n",
    "        return self.model(input)"
   ]
  },
  {
   "cell_type": "code",
   "execution_count": null,
   "metadata": {},
   "outputs": [],
   "source": [
    "def weights_init(m):\n",
    "    classname = m.__class__.__name__\n",
    "    if classname.find('Conv') != -1:\n",
    "        m.weight.data.normal_(0.0, 0.02)\n",
    "    elif classname.find('BatchNorm') != -1:\n",
    "        m.weight.data.normal_(1.0, 0.02)"
   ]
  },
  {
   "cell_type": "code",
   "execution_count": null,
   "metadata": {},
   "outputs": [],
   "source": [
    "class Discriminator(nn.Module):\n",
    "    def __init__(self, input_nc):\n",
    "        super(Discriminator, self).__init__()\n",
    "        \n",
    "        layers = [nn.Conv2d(1, 64, kernel_size=4, stride=2)]\n",
    "        inner_c=64\n",
    "\n",
    "        for _ in xrange(4):\n",
    "            layers += [nn.Conv2d(inner_c, inner_c * 2, kernel_size=4, stride=2), nn.LeakyReLU(0.2, True), nn.BatchNorm2d(inner_c * 2)]\n",
    "            inner_c = inner_c * 2\n",
    "            \n",
    "        layers += [nn.Conv2d(inner_c, 1, kernel_size=6, stride=1), nn.LeakyReLU(0.2, True)]\n",
    "        self.model = nn.Sequential(*layers)\n",
    "    \n",
    "    def forward(self, input):\n",
    "        output = self.model(input).view(1, -1)\n",
    "        return Fn.sigmoid(output)"
   ]
  },
  {
   "cell_type": "code",
   "execution_count": null,
   "metadata": {},
   "outputs": [],
   "source": [
    "for i in xrange(300):\n",
    "    Y_train[i] = Y_train[i] * gamma"
   ]
  },
  {
   "cell_type": "code",
   "execution_count": null,
   "metadata": {},
   "outputs": [],
   "source": [
    "X_train_tensor = torch.from_numpy(np.asarray(X_train)).unsqueeze(3)\n",
    "Y_train_tensor = torch.from_numpy(np.asarray(Y_train)).unsqueeze(3)\n",
    "\n",
    "X_train_tensor = X_train_tensor[:300].permute(0, 3, 1, 2)          #Only for part A first\n",
    "Y_train_tensor = Y_train_tensor[:300].permute(0, 3, 1, 2)\n",
    "\n",
    "train_data = TensorDataset(X_train_tensor, Y_train_tensor)\n",
    "train_loader = DataLoader(train_data, batch_size=1, pin_memory = False)\n",
    "\n",
    "print X_train_tensor.size(), Y_train_tensor.size()"
   ]
  },
  {
   "cell_type": "code",
   "execution_count": null,
   "metadata": {},
   "outputs": [],
   "source": [
    "dtype = torch.FloatTensor\n",
    "\n",
    "if torch.cuda.is_available():\n",
    "    dtype = torch.cuda.FloatTensor\n",
    "print dtype\n",
    "    \n",
    "G = UnetGenerator(1, 1, norm_layer=nn.BatchNorm2d, num_downs=4).type(dtype)         #apply weights_init for both\n",
    "D = Discriminator(1).type(dtype)\n",
    "\n",
    "G.apply(weights_init)\n",
    "D.apply(weights_init)\n",
    "\n",
    "#G.load_state_dict(torch.load('G.pt'))\n",
    "#D.load_state_dict(torch.load('D.pt'))\n",
    "\n",
    "G_optim = optim.Adam(G.parameters(), lr=0.0002, betas=(0.5, 0.999))  \n",
    "D_optim = optim.Adam(D.parameters(), lr=0.0002, betas=(0.5, 0.999))\n",
    "\n",
    "#G_optim.load_state_dict(torch.load('/model/G_optim.pt'))\n",
    "#D_optim.load_state_dict(torch.load('/model/D_optim.pt'))"
   ]
  },
  {
   "cell_type": "code",
   "execution_count": null,
   "metadata": {},
   "outputs": [],
   "source": [
    "def test_on_test(mode = 'A', number = 105, evalz=False):\n",
    "    \n",
    "    if evalz == True:\n",
    "        G.eval()\n",
    "    \n",
    "    if mode == 'A':\n",
    "        img = X_test_A[number]\n",
    "        mode = Y_test_A\n",
    "    elif mode == 'B':\n",
    "        img = X_test_B[number]\n",
    "        mode = Y_test_B\n",
    "    else:\n",
    "        print 'Invalid mode. Use only A or B'\n",
    "    \n",
    "    print 'Creating tensor from image...'\n",
    "    img_v = Variable(torch.from_numpy(img).unsqueeze(0).unsqueeze(1)).type(dtype)\n",
    "    print 'Tensor of shape: {} created'.format(img_v.size())\n",
    "    \n",
    "    #Pass through G\n",
    "    density_map = G(img_v).view(256, 256).data.cpu().numpy()\n",
    "    density_map = density_map / gamma\n",
    "    \n",
    "    plt.imshow(img)\n",
    "    plt.title('Image [{}]'.format(np.sum(mode[number])))\n",
    "    plt.figure()\n",
    "    plt.title('Density map generated [{}]'.format(np.sum(density_map)))\n",
    "    plt.imshow(density_map)\n",
    "    plt.figure()\n",
    "    plt.title('Ground truth [{}]'.format(np.sum(mode[number])))\n",
    "    plt.imshow(mode[number])"
   ]
  },
  {
   "cell_type": "code",
   "execution_count": null,
   "metadata": {},
   "outputs": [],
   "source": [
    "loss_L1 = nn.L1Loss().type(dtype)\n",
    "\n",
    "def train(models, optimizers, loss_fn, epochs, evalz = False):\n",
    "    \n",
    "    gen, disc = models\n",
    "    gen_optim, disc_optim = optimizers\n",
    "    \n",
    "    for epoch in xrange(epochs):\n",
    "        gen.train()\n",
    "        disc.train()\n",
    "        \n",
    "        print 'Epoch {} started'.format(epoch + 1)\n",
    "        \n",
    "        for i, (X, Y) in enumerate(train_loader):\n",
    "            X = Variable(X).type(dtype)       #first train discriminator\n",
    "            Y = Variable(Y).type(dtype)\n",
    "            \n",
    "            Y_fake = gen(X)\n",
    "            true_ = Variable(torch.ones(len(X), 1)).type(dtype)\n",
    "            fake_ = Variable(torch.zeros(len(X), 1)).type(dtype)\n",
    "            \n",
    "            for _ in xrange(2):\n",
    "                scores_fake = disc(Y_fake)\n",
    "                scores_real = disc(Y)\n",
    "\n",
    "                loss1 = loss_fn(scores_fake, fake_)\n",
    "                loss2 = loss_fn(scores_real, true_)\n",
    "                loss_d = (loss1 + loss2) * 0.5 \n",
    "\n",
    "                disc_optim.zero_grad()\n",
    "                loss_d.backward(retain_graph=True)\n",
    "                disc_optim.step()\n",
    "            \n",
    "            if i % 100 == 0:\n",
    "                    print 'Discriminator loss after {} batches: {}'.format(i, loss_d.data[0])\n",
    "            \n",
    "            #train generator\n",
    "            \n",
    "            loss_g = loss_fn(scores_fake, true_) + lambdaz * loss_L1(Y_fake, Y)\n",
    "            \n",
    "            if i % 100 == 0:\n",
    "                print 'Generator loss after {} batches: {}'.format(i, loss_g.data[0])\n",
    "            \n",
    "            gen_optim.zero_grad()\n",
    "            loss_g.backward()\n",
    "            gen_optim.step()\n",
    "            \n",
    "        print 'Epoch ended'\n",
    "        \n",
    "        if epoch % 2 == 0:\n",
    "            n = random.randint(0, 181)\n",
    "            test_on_test(mode='A', number=n, evalz=evalz)\n",
    "            \n",
    "        torch.save(G.state_dict(), 'G.pt')\n",
    "        torch.save(D.state_dict(), 'D.pt')\n",
    "        torch.save(G_optim.state_dict(), 'G_optim.pt')\n",
    "        torch.save(D_optim.state_dict(), 'D_optim.pt')"
   ]
  },
  {
   "cell_type": "code",
   "execution_count": null,
   "metadata": {
    "scrolled": false
   },
   "outputs": [],
   "source": [
    "loss_fn = nn.BCELoss().type(dtype)\n",
    "models = [G, D]\n",
    "optimizers = [G_optim, D_optim]\n",
    "\n",
    "train(models, optimizers, loss_fn, 10)"
   ]
  },
  {
   "cell_type": "code",
   "execution_count": null,
   "metadata": {},
   "outputs": [],
   "source": [
    "train(models, optimizers, loss_fn, 10)"
   ]
  },
  {
   "cell_type": "code",
   "execution_count": null,
   "metadata": {},
   "outputs": [],
   "source": [
    "train(models, optimizers, loss_fn, 10)"
   ]
  },
  {
   "cell_type": "code",
   "execution_count": null,
   "metadata": {},
   "outputs": [],
   "source": [
    "train(models, optimizers, loss_fn, 10, evalz = True)"
   ]
  },
  {
   "cell_type": "code",
   "execution_count": null,
   "metadata": {},
   "outputs": [],
   "source": []
  }
 ],
 "metadata": {
  "kernelspec": {
   "display_name": "Python 2",
   "language": "python",
   "name": "python2"
  },
  "language_info": {
   "codemirror_mode": {
    "name": "ipython",
    "version": 2
   },
   "file_extension": ".py",
   "mimetype": "text/x-python",
   "name": "python",
   "nbconvert_exporter": "python",
   "pygments_lexer": "ipython2",
   "version": "2.7.13"
  }
 },
 "nbformat": 4,
 "nbformat_minor": 2
}
